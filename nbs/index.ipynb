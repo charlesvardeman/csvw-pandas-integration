{
 "cells": [
  {
   "cell_type": "code",
   "execution_count": null,
   "metadata": {},
   "outputs": [],
   "source": [
    "#| hide\n",
    "from csvw_pandas_integration.core import *"
   ]
  },
  {
   "attachments": {},
   "cell_type": "markdown",
   "metadata": {},
   "source": [
    "# csvw-pandas-integration\n",
    "\n",
    "> A package for managing CSVW metadata with popular data analysis tools like pandas, integrating CSVW with nbdev, pandas, and dvc."
   ]
  },
  {
   "attachments": {},
   "cell_type": "markdown",
   "metadata": {},
   "source": [
    "## Overview\n",
    "\n",
    "This package aims to provide a seamless experience for users working with CSVW metadata in data analysis environments using pandas, nbdev, and dvc. It includes a CsvwManager class that handles loading, saving, and applying CSVW metadata to pandas DataFrames while integrating with nbdev for development and dvc for version control."
   ]
  },
  {
   "attachments": {},
   "cell_type": "markdown",
   "metadata": {},
   "source": [
    "## Installation\n",
    "\n",
    "You can install the package using pip:"
   ]
  },
  {
   "attachments": {},
   "cell_type": "markdown",
   "metadata": {},
   "source": [
    "```sh\n",
    "pip install csvw_pandas_integration\n",
    "```"
   ]
  },
  {
   "attachments": {},
   "cell_type": "markdown",
   "metadata": {},
   "source": [
    "## How to use\n",
    "Here's a basic example of how to use CsvwManager to load a DataFrame from a CSV file and its corresponding CSVW metadata file:\n",
    "\n",
    "```python\n",
    "from your_project.csvw_manager import CsvwManager\n",
    "\n",
    "# Initialize CsvwManager with paths to data and metadata files\n",
    "csvw_manager = CsvwManager(csv_file='data.csv', metadata_file='data.csv-metadata.json')\n",
    "\n",
    "# Load data from CSV file and apply CSVW metadata\n",
    "df = csvw_manager.load_dataframe()\n",
    "\n",
    "# Perform data analysis and transformations using pandas\n",
    "# ...\n",
    "\n",
    "# Save changes to the DataFrame and metadata, versioned with dvc\n",
    "csvw_manager.save_dataframe(df)\n",
    "```"
   ]
  },
  {
   "attachments": {},
   "cell_type": "markdown",
   "metadata": {},
   "source": [
    "## Features\n",
    "\n",
    "* Loading and saving DataFrames with CSVW metadata\n",
    "* Applying CSVW metadata to pandas DataFrames\n",
    "* Generating and validating CSVW metadata\n",
    "* Integrating with nbdev for development and dvc for version control\n"
   ]
  },
  {
   "attachments": {},
   "cell_type": "markdown",
   "metadata": {},
   "source": [
    "## Contributing\n",
    "\n",
    "We welcome contributions to the project! Please submit issues and pull requests on our GitHub repository."
   ]
  },
  {
   "attachments": {},
   "cell_type": "markdown",
   "metadata": {},
   "source": [
    "## License\n",
    "This project is licensed under the MIT License. See the LICENSE file for more details."
   ]
  }
 ],
 "metadata": {
  "kernelspec": {
   "display_name": "Python 3 (ipykernel)",
   "language": "python",
   "name": "python3"
  }
 },
 "nbformat": 4,
 "nbformat_minor": 4
}
